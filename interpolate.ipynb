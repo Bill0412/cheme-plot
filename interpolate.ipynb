{
 "cells": [
  {
   "cell_type": "code",
   "execution_count": 228,
   "metadata": {},
   "outputs": [],
   "source": [
    "from scipy.interpolate import interp1d\n",
    "import pandas as pd\n",
    "import numpy as np\n",
    "import matplotlib.pyplot as plt"
   ]
  },
  {
   "cell_type": "code",
   "execution_count": 229,
   "metadata": {},
   "outputs": [],
   "source": [
    "def wrangle(filename):\n",
    "\n",
    "    df = pd.read_csv(filename)\n",
    "\n",
    "    return df"
   ]
  },
  {
   "cell_type": "code",
   "execution_count": 230,
   "metadata": {},
   "outputs": [],
   "source": [
    "smooth_70_df = wrangle('data/rough-70.csv')"
   ]
  },
  {
   "cell_type": "code",
   "execution_count": 231,
   "metadata": {},
   "outputs": [
    {
     "data": {
      "text/html": [
       "<div>\n",
       "<style scoped>\n",
       "    .dataframe tbody tr th:only-of-type {\n",
       "        vertical-align: middle;\n",
       "    }\n",
       "\n",
       "    .dataframe tbody tr th {\n",
       "        vertical-align: top;\n",
       "    }\n",
       "\n",
       "    .dataframe thead th {\n",
       "        text-align: right;\n",
       "    }\n",
       "</style>\n",
       "<table border=\"1\" class=\"dataframe\">\n",
       "  <thead>\n",
       "    <tr style=\"text-align: right;\">\n",
       "      <th></th>\n",
       "      <th>index</th>\n",
       "      <th>volume</th>\n",
       "      <th>t</th>\n",
       "      <th>delta_p1</th>\n",
       "      <th>delta_p2</th>\n",
       "    </tr>\n",
       "  </thead>\n",
       "  <tbody>\n",
       "    <tr>\n",
       "      <th>0</th>\n",
       "      <td>1</td>\n",
       "      <td>5.33</td>\n",
       "      <td>15.4</td>\n",
       "      <td>35570</td>\n",
       "      <td>30100</td>\n",
       "    </tr>\n",
       "    <tr>\n",
       "      <th>1</th>\n",
       "      <td>2</td>\n",
       "      <td>3.78</td>\n",
       "      <td>15.8</td>\n",
       "      <td>17260</td>\n",
       "      <td>14400</td>\n",
       "    </tr>\n",
       "    <tr>\n",
       "      <th>2</th>\n",
       "      <td>3</td>\n",
       "      <td>2.76</td>\n",
       "      <td>15.9</td>\n",
       "      <td>8940</td>\n",
       "      <td>7000</td>\n",
       "    </tr>\n",
       "    <tr>\n",
       "      <th>3</th>\n",
       "      <td>4</td>\n",
       "      <td>1.93</td>\n",
       "      <td>16.1</td>\n",
       "      <td>4270</td>\n",
       "      <td>2900</td>\n",
       "    </tr>\n",
       "    <tr>\n",
       "      <th>4</th>\n",
       "      <td>5</td>\n",
       "      <td>1.38</td>\n",
       "      <td>16.3</td>\n",
       "      <td>2090</td>\n",
       "      <td>1000</td>\n",
       "    </tr>\n",
       "    <tr>\n",
       "      <th>5</th>\n",
       "      <td>6</td>\n",
       "      <td>1.00</td>\n",
       "      <td>16.4</td>\n",
       "      <td>1020</td>\n",
       "      <td>0</td>\n",
       "    </tr>\n",
       "  </tbody>\n",
       "</table>\n",
       "</div>"
      ],
      "text/plain": [
       "   index  volume     t  delta_p1  delta_p2\n",
       "0      1    5.33  15.4     35570     30100\n",
       "1      2    3.78  15.8     17260     14400\n",
       "2      3    2.76  15.9      8940      7000\n",
       "3      4    1.93  16.1      4270      2900\n",
       "4      5    1.38  16.3      2090      1000\n",
       "5      6    1.00  16.4      1020         0"
      ]
     },
     "execution_count": 231,
     "metadata": {},
     "output_type": "execute_result"
    }
   ],
   "source": [
    "smooth_70_df.head(10)"
   ]
  },
  {
   "cell_type": "code",
   "execution_count": 232,
   "metadata": {},
   "outputs": [],
   "source": [
    "x = smooth_70_df['volume'].to_numpy()\n",
    "y_delta_p1 = smooth_70_df['delta_p1'].to_numpy()\n",
    "y_delta_p2 = smooth_70_df['delta_p2'].to_numpy()\n",
    "y_t = smooth_70_df['t'].to_numpy()"
   ]
  },
  {
   "cell_type": "code",
   "execution_count": 233,
   "metadata": {},
   "outputs": [],
   "source": [
    "f_delta_p1 = interp1d(x, y_delta_p1, kind='cubic')\n",
    "f_delta_p2 = interp1d(x, y_delta_p2, kind='cubic')\n",
    "f_t = interp1d(x, y_t, kind='linear')"
   ]
  },
  {
   "cell_type": "code",
   "execution_count": 234,
   "metadata": {},
   "outputs": [
    {
     "data": {
      "text/plain": [
       "(5.33, 1.0)"
      ]
     },
     "execution_count": 234,
     "metadata": {},
     "output_type": "execute_result"
    }
   ],
   "source": [
    "v_max = x[0]\n",
    "v_min = x[-1]\n",
    "v_max, v_min"
   ]
  },
  {
   "cell_type": "code",
   "execution_count": 235,
   "metadata": {},
   "outputs": [
    {
     "data": {
      "text/plain": [
       "1.2043354431533844"
      ]
     },
     "execution_count": 235,
     "metadata": {},
     "output_type": "execute_result"
    }
   ],
   "source": [
    "step = (v_max / v_min) ** (1 / 9)\n",
    "step"
   ]
  },
  {
   "cell_type": "code",
   "execution_count": 236,
   "metadata": {},
   "outputs": [],
   "source": [
    "v_list = np.geomspace(v_max, v_min, num=10)\n",
    "delta_p1_list = f_delta_p1(v_list)\n",
    "delta_p2_list = f_delta_p2(v_list)\n",
    "t_list = f_t(v_list)"
   ]
  },
  {
   "cell_type": "code",
   "execution_count": 237,
   "metadata": {},
   "outputs": [
    {
     "data": {
      "text/plain": [
       "[5.33, 4.43, 3.67, 3.05, 2.53, 2.1, 1.75, 1.45, 1.2, 1.0]"
      ]
     },
     "execution_count": 237,
     "metadata": {},
     "output_type": "execute_result"
    }
   ],
   "source": [
    "list(np.around(v_list, 2))"
   ]
  },
  {
   "cell_type": "code",
   "execution_count": 238,
   "metadata": {},
   "outputs": [
    {
     "data": {
      "text/plain": [
       "[35.57, 24.05, 16.27, 11.02, 7.49, 5.11, 3.46, 2.33, 1.55, 1.02]"
      ]
     },
     "execution_count": 238,
     "metadata": {},
     "output_type": "execute_result"
    }
   ],
   "source": [
    "list(np.around(delta_p1_list / 1000, 2))"
   ]
  },
  {
   "cell_type": "code",
   "execution_count": 239,
   "metadata": {},
   "outputs": [
    {
     "data": {
      "text/plain": [
       "[30.1, 20.34, 13.52, 8.85, 5.72, 3.63, 2.2, 1.21, 0.51, 0.0]"
      ]
     },
     "execution_count": 239,
     "metadata": {},
     "output_type": "execute_result"
    }
   ],
   "source": [
    "list(np.around(delta_p2_list / 1000, 2))"
   ]
  },
  {
   "cell_type": "code",
   "execution_count": 240,
   "metadata": {},
   "outputs": [
    {
     "data": {
      "text/plain": [
       "[15.4, 15.63, 15.81, 15.87, 15.95, 16.06, 16.17, 16.27, 16.35, 16.4]"
      ]
     },
     "execution_count": 240,
     "metadata": {},
     "output_type": "execute_result"
    }
   ],
   "source": [
    "list(np.around(t_list, 2))"
   ]
  },
  {
   "cell_type": "code",
   "execution_count": 241,
   "metadata": {},
   "outputs": [],
   "source": [
    "xnew = np.linspace(x.min(), x.max(), num=100)"
   ]
  },
  {
   "cell_type": "code",
   "execution_count": 242,
   "metadata": {},
   "outputs": [
    {
     "data": {
      "image/png": "[encoded data removed]",
      "text/plain": [
       "<Figure size 864x576 with 2 Axes>"
      ]
     },
     "metadata": {
      "needs_background": "light"
     },
     "output_type": "display_data"
    }
   ],
   "source": [
    "fig, ax1 = plt.subplots(figsize=(12, 8))\n",
    "color = 'tab:red'\n",
    "ax1.plot(x, y_delta_p1, 'o',color=color)\n",
    "ax1.plot(xnew, f_delta_p1(xnew), '-', color=color)\n",
    "ax1.plot(x, y_delta_p2, 'o',color=color)\n",
    "ax1.plot(xnew, f_delta_p2(xnew), '-', color=color)\n",
    "ax1.set_xlabel('Volume ($m^3$)')\n",
    "ax1.set_ylabel('$\\Delta$P(Pa)')\n",
    "ax1.invert_xaxis()\n",
    "ax1.tick_params(axis='y', labelcolor=color)\n",
    "\n",
    "ax2 = ax1.twinx()\n",
    "color = 'tab:blue'\n",
    "ax2.plot(x, y_t, 'o',color=color)\n",
    "ax2.plot(xnew, f_t(xnew), '-', color=color)\n",
    "ax2.set_ylabel('$T(\\degree C)$')\n",
    "ax2.tick_params(axis='y', labelcolor=color)\n",
    "\n",
    "\n",
    "\n",
    "# plt.legend(['delta_p1', 'delta_p1 interpolated'], loc='best')\n",
    "plt.title('Interpolation of smooth tube at 70% opening')\n",
    "\n",
    "plt.show()"
   ]
  },
  {
   "cell_type": "code",
   "execution_count": null,
   "metadata": {},
   "outputs": [],
   "source": []
  }
 ],
 "metadata": {
  "interpreter": {
   "hash": "1df6dd77c15cc37cef68a2f6611f6988a964d0501e983e4c6348e6547b56d6e1"
  },
  "kernelspec": {
   "display_name": "Python 3.10.4 ('cheme-interpolate')",
   "language": "python",
   "name": "python3"
  },
  "language_info": {
   "codemirror_mode": {
    "name": "ipython",
    "version": 3
   },
   "file_extension": ".py",
   "mimetype": "text/x-python",
   "name": "python",
   "nbconvert_exporter": "python",
   "pygments_lexer": "ipython3",
   "version": "3.10.4"
  },
  "orig_nbformat": 4
 },
 "nbformat": 4,
 "nbformat_minor": 2
}
